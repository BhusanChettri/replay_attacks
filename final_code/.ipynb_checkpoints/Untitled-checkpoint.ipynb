{
 "cells": [
  {
   "cell_type": "code",
   "execution_count": 9,
   "metadata": {
    "collapsed": true
   },
   "outputs": [],
   "source": [
    "import audio \n",
    "import librosa\n",
    "import numpy as np"
   ]
  },
  {
   "cell_type": "code",
   "execution_count": 10,
   "metadata": {},
   "outputs": [
    {
     "name": "stdout",
     "output_type": "stream",
     "text": [
      "T_1000001.wav\n",
      "T_1000002.wav\n",
      "T_1000003.wav\n",
      "T_1000004.wav\n",
      "T_1000005.wav\n",
      "T_1000006.wav\n",
      "T_1000007.wav\n",
      "T_1000008.wav\n",
      "T_1000009.wav\n",
      "T_1000010.wav\n"
     ]
    }
   ],
   "source": [
    "%%bash\n",
    "ls /import/c4dm-datasets/SpeakerRecognitionDatasets/ASVSpoof2017/ASVspoof2017_train_dev/wav/train/ | head"
   ]
  },
  {
   "cell_type": "code",
   "execution_count": 11,
   "metadata": {
    "collapsed": true
   },
   "outputs": [],
   "source": [
    "base='/import/c4dm-datasets/SpeakerRecognitionDatasets/ASVSpoof2017/ASVspoof2017_train_dev/wav/train/'\n"
   ]
  },
  {
   "cell_type": "code",
   "execution_count": 12,
   "metadata": {
    "collapsed": true
   },
   "outputs": [],
   "source": [
    "t1=base+'T_1000001.wav'"
   ]
  },
  {
   "cell_type": "code",
   "execution_count": 30,
   "metadata": {},
   "outputs": [],
   "source": [
    "def update_audio_samples(fs, samples, threshold, remove=0.1, removeFlag=False):\n",
    "    '''\n",
    "    Inputs:\n",
    "    audioFile : the absolute path of the audio file\n",
    "    threshold : is in seconds. Used to trim and append audio samples\n",
    "    remove    : is in seconds. audio file to remove from start.Default is 100ms that is equal to 1600 raw samples\n",
    "                and avoid computational issues.                \n",
    "    Output:\n",
    "    trimmed/appended audio file of length given by threshold\n",
    "    \n",
    "    Threshold is in seconds. So convert it into samples first.\n",
    "    If file is large, we throw away samples after the threshold else we copy the samples to match threshold\n",
    "    '''\n",
    "        \n",
    "    #fs, samples = wav.read(audioFile)\n",
    "    # We do this using librosa in the calling function now\n",
    "    \n",
    "    #If removeFlag is set then remove samples from start\n",
    "    if removeFlag:\n",
    "        remove = int(remove * fs)         \n",
    "        samples = samples[remove:]                                          \n",
    "    \n",
    "    threshold_samples = threshold * fs      \n",
    "    audio_length = len(samples)/fs\n",
    "            \n",
    "    if audio_length < threshold:   #replicate the samples to match threshold        \n",
    "        n=0\n",
    "        while n<threshold_samples:            \n",
    "            samples = np.tile(samples, 3) #appends 3 copies of samples            \n",
    "            n+=len(samples)            \n",
    "        samples = samples[0:threshold_samples] #just take threshold_samples                   \n",
    "        \n",
    "    elif audio_length > threshold:        \n",
    "        samples = samples[0:threshold_samples] #just take threshold_samples and ignore rest\n",
    "        \n",
    "    #print('New length after appending/truncating = %s seconds' % (len(samples)/fs))\n",
    "    \n",
    "    return samples\n",
    "\n",
    "def compute_spectrogram(input_type, filename, fft_size=512, win_size=512, hop_size=160, duration=1):\n",
    "                \n",
    "    samples, sr = librosa.load(filename, sr=None, dtype=np.float32)    \n",
    "\n",
    "    #Truncate or append samples based on duration\n",
    "    if duration != 0:\n",
    "        samples = update_audio_samples(sr,samples,duration)\n",
    "               \n",
    "    #Take the FFT\n",
    "    D = librosa.stft(samples,fft_size,hop_size,win_size)    \n",
    "    \n",
    "    if input_type == 'mag_spec': #power magnitude spectrogram        \n",
    "        D= np.log(np.maximum((np.abs(D)**2), 1e-7))\n",
    "    elif input_type == 'mel_spec':\n",
    "        print('to do for mel spectrogram code')\n",
    "    elif input_type == 'cqt_spec':\n",
    "        print('to do for cqt spectrogram code')\n",
    "                    \n",
    "    r,c = D.shape\n",
    "    \n",
    "    #Let us return the spectrogram matrix in timeXfrequency format by taking transpose\n",
    "    #return np.transpose(D[:, 0:c-1])\n",
    "    return np.transpose(D)"
   ]
  },
  {
   "cell_type": "code",
   "execution_count": 33,
   "metadata": {},
   "outputs": [],
   "source": [
    "s = compute_spectrogram('mag_spec', t1, fft_size=512, win_size=512, hop_size=160, duration=0)"
   ]
  },
  {
   "cell_type": "code",
   "execution_count": 34,
   "metadata": {},
   "outputs": [
    {
     "name": "stdout",
     "output_type": "stream",
     "text": [
      "(243, 257)\n"
     ]
    }
   ],
   "source": [
    "print(s.shape)"
   ]
  },
  {
   "cell_type": "code",
   "execution_count": null,
   "metadata": {
    "collapsed": true
   },
   "outputs": [],
   "source": []
  }
 ],
 "metadata": {
  "kernelspec": {
   "display_name": "Python 3",
   "language": "python",
   "name": "python3"
  },
  "language_info": {
   "codemirror_mode": {
    "name": "ipython",
    "version": 3
   },
   "file_extension": ".py",
   "mimetype": "text/x-python",
   "name": "python",
   "nbconvert_exporter": "python",
   "pygments_lexer": "ipython3",
   "version": "3.6.1"
  }
 },
 "nbformat": 4,
 "nbformat_minor": 2
}
