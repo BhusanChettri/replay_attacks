{
 "cells": [
  {
   "cell_type": "code",
   "execution_count": 16,
   "metadata": {
    "collapsed": true
   },
   "outputs": [],
   "source": [
    "import audio \n",
    "import librosa\n",
    "import numpy as np"
   ]
  },
  {
   "cell_type": "code",
   "execution_count": 17,
   "metadata": {},
   "outputs": [
    {
     "name": "stdout",
     "output_type": "stream",
     "text": [
      "T_1000001.wav\n",
      "T_1000002.wav\n",
      "T_1000003.wav\n",
      "T_1000004.wav\n",
      "T_1000005.wav\n",
      "T_1000006.wav\n",
      "T_1000007.wav\n",
      "T_1000008.wav\n",
      "T_1000009.wav\n",
      "T_1000010.wav\n"
     ]
    }
   ],
   "source": [
    "%%bash\n",
    "ls /import/c4dm-datasets/SpeakerRecognitionDatasets/ASVSpoof2017/ASVspoof2017_train_dev/wav/train/ | head"
   ]
  },
  {
   "cell_type": "code",
   "execution_count": 18,
   "metadata": {
    "collapsed": true
   },
   "outputs": [],
   "source": [
    "base='/import/c4dm-datasets/SpeakerRecognitionDatasets/ASVSpoof2017/ASVspoof2017_train_dev/wav/train/'\n"
   ]
  },
  {
   "cell_type": "code",
   "execution_count": 19,
   "metadata": {
    "collapsed": true
   },
   "outputs": [],
   "source": [
    "t1=base+'T_1000001.wav'"
   ]
  },
  {
   "cell_type": "code",
   "execution_count": 20,
   "metadata": {
    "collapsed": true
   },
   "outputs": [],
   "source": [
    "def update_audio_samples(fs, samples, threshold, remove=0.1, removeFlag=False):\n",
    "    '''\n",
    "    Inputs:\n",
    "    audioFile : the absolute path of the audio file\n",
    "    threshold : is in seconds. Used to trim and append audio samples\n",
    "    remove    : is in seconds. audio file to remove from start.Default is 100ms that is equal to 1600 raw samples\n",
    "                and avoid computational issues.                \n",
    "    Output:\n",
    "    trimmed/appended audio file of length given by threshold\n",
    "    \n",
    "    Threshold is in seconds. So convert it into samples first.\n",
    "    If file is large, we throw away samples after the threshold else we copy the samples to match threshold\n",
    "    '''\n",
    "        \n",
    "    #fs, samples = wav.read(audioFile)\n",
    "    # We do this using librosa in the calling function now\n",
    "    \n",
    "    #If removeFlag is set then remove samples from start\n",
    "    if removeFlag:\n",
    "        remove = int(remove * fs)         \n",
    "        samples = samples[remove:]                                          \n",
    "    \n",
    "    threshold_samples = threshold * fs      \n",
    "    audio_length = len(samples)/fs\n",
    "            \n",
    "    if audio_length < threshold:   #replicate the samples to match threshold        \n",
    "        n=0\n",
    "        while n<threshold_samples:            \n",
    "            samples = np.tile(samples, 3) #appends 3 copies of samples            \n",
    "            n+=len(samples)            \n",
    "        samples = samples[0:threshold_samples] #just take threshold_samples                   \n",
    "        \n",
    "    elif audio_length > threshold:        \n",
    "        samples = samples[0:threshold_samples] #just take threshold_samples and ignore rest\n",
    "        \n",
    "    #print('New length after appending/truncating = %s seconds' % (len(samples)/fs))\n",
    "    \n",
    "    return samples\n",
    "\n",
    "def compute_spectrogram(input_type, filename, fft_size=512, win_size=512, hop_size=160, duration=1):\n",
    "                \n",
    "    samples, sr = librosa.load(filename, sr=None, dtype=np.float32)    \n",
    "\n",
    "    #Truncate or append samples based on duration\n",
    "    if duration != 0:\n",
    "        samples = update_audio_samples(sr,samples,duration)\n",
    "               \n",
    "    #Take the FFT\n",
    "    D = librosa.stft(samples,fft_size,hop_size,win_size)    \n",
    "    \n",
    "    if input_type == 'mag_spec': #power magnitude spectrogram        \n",
    "        D= np.log(np.maximum((np.abs(D)**2), 1e-7))\n",
    "    elif input_type == 'mel_spec':\n",
    "        print('to do for mel spectrogram code')\n",
    "    elif input_type == 'cqt_spec':\n",
    "        print('to do for cqt spectrogram code')\n",
    "                    \n",
    "    r,c = D.shape\n",
    "    \n",
    "    #Let us return the spectrogram matrix in timeXfrequency format by taking transpose\n",
    "    #return np.transpose(D[:, 0:c-1])\n",
    "    return np.transpose(D)"
   ]
  },
  {
   "cell_type": "code",
   "execution_count": 21,
   "metadata": {
    "collapsed": true
   },
   "outputs": [],
   "source": [
    "s = compute_spectrogram('mag_spec', t1, fft_size=512, win_size=512, hop_size=160, duration=0)"
   ]
  },
  {
   "cell_type": "code",
   "execution_count": 23,
   "metadata": {},
   "outputs": [
    {
     "name": "stdout",
     "output_type": "stream",
     "text": [
      "(243, 257)\n",
      "[[ -4.9121809   -8.4379921   -6.28439045 ..., -12.16496563 -11.68358707\n",
      "  -12.20790291]\n",
      " [ -4.8610568   -5.98351479  -5.11513615 ..., -12.27730846 -13.28310776\n",
      "  -15.95558834]\n",
      " [ -5.23886633  -6.48019028  -5.16042423 ..., -13.82535648 -12.68379307\n",
      "  -13.00259495]\n",
      " ..., \n",
      " [ -5.61120892  -6.07040024  -4.33269024 ..., -10.82001972 -10.37234116\n",
      "  -13.77040863]\n",
      " [ -5.26702356  -6.11706161  -4.91438484 ..., -12.60729504 -10.54113388\n",
      "  -10.17309189]\n",
      " [ -6.07708931  -5.15204811  -3.81261563 ..., -10.86954117 -11.03900433\n",
      "  -16.1180954 ]]\n"
     ]
    }
   ],
   "source": [
    "print(s.shape)\n",
    "print(s)"
   ]
  },
  {
   "cell_type": "code",
   "execution_count": 24,
   "metadata": {},
   "outputs": [],
   "source": [
    "import numpy as np\n",
    "a=np.random.rand((2))\n",
    "b=np.random.randint(1,4)"
   ]
  },
  {
   "cell_type": "code",
   "execution_count": 25,
   "metadata": {},
   "outputs": [
    {
     "name": "stdout",
     "output_type": "stream",
     "text": [
      "2\n"
     ]
    }
   ],
   "source": [
    "print(b)"
   ]
  },
  {
   "cell_type": "code",
   "execution_count": 26,
   "metadata": {},
   "outputs": [
    {
     "ename": "SyntaxError",
     "evalue": "invalid syntax (<ipython-input-26-913e4cdbfa0b>, line 1)",
     "output_type": "error",
     "traceback": [
      "\u001b[0;36m  File \u001b[0;32m\"<ipython-input-26-913e4cdbfa0b>\"\u001b[0;36m, line \u001b[0;32m1\u001b[0m\n\u001b[0;31m    if len(audioFile < 1sec):\u001b[0m\n\u001b[0m                          ^\u001b[0m\n\u001b[0;31mSyntaxError\u001b[0m\u001b[0;31m:\u001b[0m invalid syntax\n"
     ]
    }
   ],
   "source": [
    "if len(audioFile < 1sec):\n",
    "    copy the same content and make it \n",
    "\n",
    "for i in range(10):\n",
    "    start=np.random.randint(0,100)\n",
    "    print(index)"
   ]
  },
  {
   "cell_type": "code",
   "execution_count": 29,
   "metadata": {
    "collapsed": true
   },
   "outputs": [],
   "source": [
    "def augment_matrix(data, window, hop):\n",
    "    '''\n",
    "    Inputs: \n",
    "       data = original data matrix in TxF format. Rows specifies frames and columns frequency.\n",
    "       window = how many frames to keep in one matrix\n",
    "       hop = how many frames to skip to start another matrix\n",
    "       \n",
    "    Outputs:\n",
    "       a list of matrices obtained from the original matrix using sliding window mechanism, this is kind\n",
    "       of a data augmentation technique for producing many matrices.       \n",
    "       '''\n",
    "    totalFrames, _ = data.shape\n",
    "    print(data.shape)\n",
    "    print(totalFrames)\n",
    "    \n",
    "\n",
    "# Generalize this function so that it works when I send CQT DA feature matrix and run training on the features !\n"
   ]
  },
  {
   "cell_type": "code",
   "execution_count": 30,
   "metadata": {},
   "outputs": [
    {
     "name": "stdout",
     "output_type": "stream",
     "text": [
      "(243, 257)\n",
      "243\n"
     ]
    }
   ],
   "source": [
    "augment_matrix(s, None, None)"
   ]
  },
  {
   "cell_type": "code",
   "execution_count": null,
   "metadata": {
    "collapsed": true
   },
   "outputs": [],
   "source": []
  }
 ],
 "metadata": {
  "kernelspec": {
   "display_name": "Python 3",
   "language": "python",
   "name": "python3"
  },
  "language_info": {
   "codemirror_mode": {
    "name": "ipython",
    "version": 3
   },
   "file_extension": ".py",
   "mimetype": "text/x-python",
   "name": "python",
   "nbconvert_exporter": "python",
   "pygments_lexer": "ipython3",
   "version": "3.6.1"
  }
 },
 "nbformat": 4,
 "nbformat_minor": 2
}
