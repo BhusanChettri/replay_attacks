{
 "cells": [
  {
   "cell_type": "markdown",
   "metadata": {},
   "source": [
    "# Using Scikit learn SVM setup we train SVM on the SCMC ivectors"
   ]
  },
  {
   "cell_type": "code",
   "execution_count": 1,
   "metadata": {
    "collapsed": true
   },
   "outputs": [],
   "source": [
    "import scipy.io as sio\n",
    "import numpy as np"
   ]
  },
  {
   "cell_type": "markdown",
   "metadata": {},
   "source": [
    "## Working directory\n",
    "\n",
    "/homes/bc305/myphd/stage1/experiments/ASVspoof2017/scripts/afterInterspeech/repeat/individual_systems/Experiment4/SCMC/ivector_setup/"
   ]
  },
  {
   "cell_type": "code",
   "execution_count": 2,
   "metadata": {
    "collapsed": true
   },
   "outputs": [],
   "source": [
    "base='/homes/bc305/myphd/stage1/experiments/ASVspoof2017/scripts/afterInterspeech/repeat/individual_systems/'\n",
    "scmc=base+'/Experiment4/SCMC/ivector_setup/'"
   ]
  },
  {
   "cell_type": "markdown",
   "metadata": {},
   "source": [
    "## Load the i-vectors"
   ]
  },
  {
   "cell_type": "code",
   "execution_count": 3,
   "metadata": {
    "collapsed": true
   },
   "outputs": [],
   "source": [
    "train_ivec = np.transpose(sio.loadmat(scmc+'/ivectors/train_ivectors.mat')['train_ivs'])"
   ]
  },
  {
   "cell_type": "code",
   "execution_count": 4,
   "metadata": {},
   "outputs": [
    {
     "name": "stdout",
     "output_type": "stream",
     "text": [
      "(3014, 200)\n"
     ]
    }
   ],
   "source": [
    "print(train_ivec.shape)"
   ]
  },
  {
   "cell_type": "code",
   "execution_count": 187,
   "metadata": {
    "collapsed": true
   },
   "outputs": [],
   "source": [
    "dev_ivec = np.transpose(sio.loadmat(scmc+'/ivectors/dev_ivectors.mat')['dev_ivs'])"
   ]
  },
  {
   "cell_type": "code",
   "execution_count": 188,
   "metadata": {},
   "outputs": [
    {
     "name": "stdout",
     "output_type": "stream",
     "text": [
      "(1710, 200)\n"
     ]
    }
   ],
   "source": [
    "print(dev_ivec.shape)"
   ]
  },
  {
   "cell_type": "code",
   "execution_count": 189,
   "metadata": {
    "collapsed": true
   },
   "outputs": [],
   "source": [
    "eval_ivec = np.transpose(sio.loadmat(scmc+'/ivectors/eval_ivectors.mat')['eval_ivs'])"
   ]
  },
  {
   "cell_type": "code",
   "execution_count": 190,
   "metadata": {},
   "outputs": [
    {
     "name": "stdout",
     "output_type": "stream",
     "text": [
      "(13306, 200)\n"
     ]
    }
   ],
   "source": [
    "print(eval_ivec.shape)"
   ]
  },
  {
   "cell_type": "code",
   "execution_count": 191,
   "metadata": {
    "collapsed": true
   },
   "outputs": [],
   "source": [
    "from sklearn.svm import LinearSVC\n",
    "from sklearn.preprocessing import StandardScaler"
   ]
  },
  {
   "cell_type": "markdown",
   "metadata": {},
   "source": [
    "### Normalize data to have zero mean and unit variance"
   ]
  },
  {
   "cell_type": "code",
   "execution_count": 192,
   "metadata": {},
   "outputs": [
    {
     "name": "stdout",
     "output_type": "stream",
     "text": [
      "StandardScaler(copy=True, with_mean=True, with_std=True)\n"
     ]
    }
   ],
   "source": [
    "scaler = StandardScaler().fit(train_ivec)\n",
    "print(scaler)"
   ]
  },
  {
   "cell_type": "code",
   "execution_count": 193,
   "metadata": {
    "collapsed": true
   },
   "outputs": [],
   "source": [
    "n_train_ivec = scaler.transform(train_ivec)\n",
    "n_dev_ivec = scaler.transform(dev_ivec)\n",
    "n_eval_ivec = scaler.transform(eval_ivec)"
   ]
  },
  {
   "cell_type": "code",
   "execution_count": 194,
   "metadata": {},
   "outputs": [
    {
     "name": "stdout",
     "output_type": "stream",
     "text": [
      "(3014, 200)\n",
      "(1710, 200)\n",
      "(13306, 200)\n"
     ]
    }
   ],
   "source": [
    "print(n_train_ivec.shape)\n",
    "print(n_dev_ivec.shape)\n",
    "print(n_eval_ivec.shape)"
   ]
  },
  {
   "cell_type": "code",
   "execution_count": 195,
   "metadata": {
    "collapsed": true
   },
   "outputs": [],
   "source": [
    "gen_labels = np.ones(1507)    # +1 labels from genuine class\n",
    "spf_labels = 0-gen_labels     # -1 labels from spoofed class\n",
    "\n",
    "train_data = n_train_ivec\n",
    "train_labels = np.hstack((gen_labels, spf_labels))"
   ]
  },
  {
   "cell_type": "markdown",
   "metadata": {},
   "source": [
    "# Linear SVM classifier"
   ]
  },
  {
   "cell_type": "code",
   "execution_count": 196,
   "metadata": {},
   "outputs": [
    {
     "data": {
      "text/plain": [
       "LinearSVC(C=1.0, class_weight=None, dual=True, fit_intercept=True,\n",
       "     intercept_scaling=1, loss='squared_hinge', max_iter=1000,\n",
       "     multi_class='ovr', penalty='l2', random_state=0, tol=0.0001,\n",
       "     verbose=0)"
      ]
     },
     "execution_count": 196,
     "metadata": {},
     "output_type": "execute_result"
    }
   ],
   "source": [
    "svm = LinearSVC(random_state=0)\n",
    "svm.fit(train_data, train_labels)"
   ]
  },
  {
   "cell_type": "markdown",
   "metadata": {},
   "source": [
    "### Score using the trained SVM\n",
    "\n",
    "So far what we have done ? Brief story.\n",
    "\n",
    "We trained I-vector setup on 40 dimensional SCMC features using the MSR identity toolbox. The path to this setup is here:/homes/bc305/myphd/stage1/experiments/ASVspoof2017/scripts/afterInterspeech/repeat/individual_systems/Experiment4/SCMC/ivector_setup. Having done that, we extracted ivectors for training, development and evaluation data. We used 200 dimensional ivector, 256 mixture UBM.\n",
    "\n",
    "Then, using scikit learn SVM linear package we trained a linear SVM. We have one 200 dimensional ivector for each audio file now. We use +1 for genuine and -1 for spoofed class. We also standardize the dataset to have zero mean and unit variance. We estimate mean and variance from training data. Having trained the SVM, we used it to score on the development, training and evaluation data and obtained score value for each test files. We will now use these scores in our EER setup to compute the EER."
   ]
  },
  {
   "cell_type": "code",
   "execution_count": 197,
   "metadata": {
    "collapsed": true
   },
   "outputs": [],
   "source": [
    "dev_scores = svm.decision_function(n_dev_ivec)\n",
    "train_scores = svm.decision_function(train_data)\n",
    "eval_scores = svm.decision_function(n_eval_ivec)"
   ]
  },
  {
   "cell_type": "code",
   "execution_count": null,
   "metadata": {
    "collapsed": true
   },
   "outputs": [],
   "source": []
  },
  {
   "cell_type": "code",
   "execution_count": 198,
   "metadata": {
    "collapsed": true
   },
   "outputs": [],
   "source": [
    "# Save these scores to compute EER.\n",
    "def save_scores(scores, filename):\n",
    "    with open(filename, 'w') as f:\n",
    "        for score in scores:\n",
    "            f.write(str(score)+'\\n')"
   ]
  },
  {
   "cell_type": "code",
   "execution_count": 199,
   "metadata": {
    "collapsed": true
   },
   "outputs": [],
   "source": [
    "save_scores(train_scores, 'scores/train_scores.txt')\n",
    "save_scores(dev_scores, 'scores/dev_scores.txt')\n",
    "save_scores(eval_scores, 'scores/eval_scores.txt')"
   ]
  },
  {
   "cell_type": "markdown",
   "metadata": {},
   "source": [
    "## Scripts in matlab injecting 60ms and extracting i-vectors\n",
    "\n",
    "/homes/bc305/myphd/stage1/experiments/ASVspoof2017/scripts/afterInterspeech/repeat/individual_systems/\n",
    "Experiment4/SCMC/ivector_setup/extract_ivectors_injecting60ms\n",
    "\n",
    "# Test performance on new ivectors"
   ]
  },
  {
   "cell_type": "code",
   "execution_count": 200,
   "metadata": {
    "collapsed": true
   },
   "outputs": [],
   "source": [
    "new_train_ivec = np.transpose(sio.loadmat(scmc+'/ivectors/train_ivectors_injected.mat')['train_ivs'])\n",
    "new_dev_ivec = np.transpose(sio.loadmat(scmc+'/ivectors/dev_ivectors_injected.mat')['dev_ivs'])\n",
    "new_eval_ivec = np.transpose(sio.loadmat(scmc+'/ivectors/eval_ivectors_injected.mat')['eval_ivs'])"
   ]
  },
  {
   "cell_type": "code",
   "execution_count": 201,
   "metadata": {},
   "outputs": [
    {
     "name": "stdout",
     "output_type": "stream",
     "text": [
      "(13306, 200)\n",
      "(3014, 200)\n",
      "(1710, 200)\n"
     ]
    }
   ],
   "source": [
    "print(new_eval_ivec.shape)\n",
    "print(new_train_ivec.shape)\n",
    "print(new_dev_ivec.shape)"
   ]
  },
  {
   "cell_type": "code",
   "execution_count": 202,
   "metadata": {
    "collapsed": true
   },
   "outputs": [],
   "source": [
    "# Normalise the i-vectors\n",
    "nn_train_ivec = scaler.transform(new_train_ivec)\n",
    "nn_dev_ivec = scaler.transform(new_dev_ivec)\n",
    "nn_eval_ivec = scaler.transform(new_eval_ivec)"
   ]
  },
  {
   "cell_type": "code",
   "execution_count": 203,
   "metadata": {
    "collapsed": true
   },
   "outputs": [],
   "source": [
    "# Score the new ivectors now\n",
    "new_train_scores = svm.decision_function(nn_train_ivec)\n",
    "new_dev_scores = svm.decision_function(nn_dev_ivec)\n",
    "new_eval_scores = svm.decision_function(nn_eval_ivec)"
   ]
  },
  {
   "cell_type": "code",
   "execution_count": 204,
   "metadata": {
    "collapsed": true
   },
   "outputs": [],
   "source": [
    "# Save the score files for computing EER in matlab\n",
    "save_scores(new_train_scores, 'scores/train_scores_injected.txt')\n",
    "save_scores(new_dev_scores, 'scores/dev_scores_injected.txt')\n",
    "save_scores(new_eval_scores, 'scores/eval_scores_injected.txt')"
   ]
  },
  {
   "cell_type": "markdown",
   "metadata": {},
   "source": [
    "# Results: EER before and after adding 60ms signature to test files\n",
    "\n",
    "    BEFORE:\n",
    "\n",
    "    Tesing on training set\n",
    "    EER on train = 0.564\n",
    "    ----------------------\n",
    "    Tesing on development set\n",
    "    EER on dev = 21.889\n",
    "    ----------------------\n",
    "    Tesing on evaluation set\n",
    "    EER on eval = 20.901\n",
    "    \n",
    "    \n",
    "Next, we will see if injecting the 60ms signature will influence the prediction in the ivector-SVM setup. Therefore, we will now append it to every test files (dev and eval) and extract the i-vectors. Then we will use this new i-vectors to test and obtain new-set of scores which we will compute EER upon.     \n",
    "\n",
    "    AFTER:\n",
    "\n",
    "    Tesing on training set\n",
    "    EER on train = 0.863\n",
    "    ----------------------\n",
    "    Tesing on development set\n",
    "    EER on dev = 21.817\n",
    "    ----------------------\n",
    "    Tesing on evaluation set\n",
    "    EER on eval = 20.530"
   ]
  },
  {
   "cell_type": "markdown",
   "metadata": {},
   "source": [
    "# Training SVM on Pooled data"
   ]
  },
  {
   "cell_type": "code",
   "execution_count": 205,
   "metadata": {
    "collapsed": true
   },
   "outputs": [],
   "source": [
    "# Training i-vectors and labels\n",
    "gen_labels = np.ones(1507)    # +1 labels from genuine class\n",
    "spf_labels = 0-gen_labels     # -1 labels from spoofed class\n",
    "gen_data = n_train_ivec[0:1507, :]\n",
    "spf_data = n_train_ivec[1507:, :]\n",
    "\n",
    "# Development i-vectors and labels\n",
    "gen_labels_dev = np.ones(760)\n",
    "spf_labels_dev = 0-np.ones(950)\n",
    "gen_data_dev = n_dev_ivec[0:760, :]\n",
    "spf_data_dev = n_dev_ivec[760:, :]\n",
    "\n",
    "# Merge training+dev data \n",
    "pooled_gen_data = np.vstack((gen_data, gen_data_dev))\n",
    "pooled_spf_data = np.vstack((spf_data, spf_data_dev))\n",
    "pooled_data = np.vstack((pooled_gen_data, pooled_spf_data))\n",
    "\n",
    "# Merge labels\n",
    "pooled_gen_labels = np.hstack((gen_labels, gen_labels_dev))\n",
    "pooled_spf_labels = np.hstack((spf_labels, spf_labels_dev))\n",
    "pooled_labels = np.hstack((pooled_gen_labels, pooled_spf_labels))"
   ]
  },
  {
   "cell_type": "code",
   "execution_count": 206,
   "metadata": {},
   "outputs": [
    {
     "name": "stdout",
     "output_type": "stream",
     "text": [
      "(2267, 200)\n",
      "(2267,)\n",
      "(2457, 200)\n",
      "(2457,)\n",
      "(4724, 200)\n",
      "(4724,)\n"
     ]
    }
   ],
   "source": [
    "print(pooled_gen_data.shape)\n",
    "print(pooled_gen_labels.shape)\n",
    "\n",
    "print(pooled_spf_data.shape)\n",
    "print(pooled_spf_labels.shape)\n",
    "\n",
    "print(pooled_data.shape)\n",
    "print(pooled_labels.shape)"
   ]
  },
  {
   "cell_type": "markdown",
   "metadata": {},
   "source": [
    "# Train SVM on pooled data"
   ]
  },
  {
   "cell_type": "code",
   "execution_count": 207,
   "metadata": {},
   "outputs": [
    {
     "data": {
      "text/plain": [
       "LinearSVC(C=1.0, class_weight=None, dual=True, fit_intercept=True,\n",
       "     intercept_scaling=1, loss='squared_hinge', max_iter=1000,\n",
       "     multi_class='ovr', penalty='l2', random_state=0, tol=0.0001,\n",
       "     verbose=0)"
      ]
     },
     "execution_count": 207,
     "metadata": {},
     "output_type": "execute_result"
    }
   ],
   "source": [
    "svm_pooled = LinearSVC(random_state=0)\n",
    "svm_pooled.fit(pooled_data, pooled_labels)"
   ]
  },
  {
   "cell_type": "code",
   "execution_count": 208,
   "metadata": {
    "collapsed": true
   },
   "outputs": [],
   "source": [
    "# Score using the new pooled svm model\n",
    "\n",
    "dev_scores1 = svm_pooled.decision_function(n_dev_ivec)\n",
    "train_scores1 = svm_pooled.decision_function(train_data)\n",
    "eval_scores1 = svm_pooled.decision_function(n_eval_ivec)"
   ]
  },
  {
   "cell_type": "code",
   "execution_count": 209,
   "metadata": {
    "collapsed": true
   },
   "outputs": [],
   "source": [
    "# Save the new pooled scores\n",
    "\n",
    "save_scores(train_scores1, 'scores/train_scores_pooled.txt')\n",
    "save_scores(dev_scores1, 'scores/dev_scores_pooled.txt')\n",
    "save_scores(eval_scores1, 'scores/eval_scores_pooled.txt')"
   ]
  },
  {
   "cell_type": "markdown",
   "metadata": {},
   "source": [
    "# Results on pooled SVM model\n",
    "\n",
    "    Tesing on training set\n",
    "    EER on train = 2.415\n",
    "    --------------------------------------------\n",
    "    Tesing on development set\n",
    "    EER on dev = 4.621\n",
    "    --------------------------------------------\n",
    "    Tesing on evaluation set\n",
    "    EER on dev = 18.310\n",
    "    \n",
    "We are not going to look into injecting 60ms on this as the EER on eval is pretty same we had with models trained on only training data. But we can look into models trained on only Dev data.    "
   ]
  },
  {
   "cell_type": "markdown",
   "metadata": {},
   "source": [
    "# Training SVM on Development data"
   ]
  },
  {
   "cell_type": "code",
   "execution_count": 210,
   "metadata": {
    "collapsed": true
   },
   "outputs": [],
   "source": [
    "# Development i-vectors and labels\n",
    "gen_labels_dev = np.ones(760)\n",
    "spf_labels_dev = 0-np.ones(950)\n",
    "\n",
    "dev_data = n_dev_ivec\n",
    "dev_labels = np.hstack((gen_labels_dev, spf_labels_dev))"
   ]
  },
  {
   "cell_type": "code",
   "execution_count": 211,
   "metadata": {},
   "outputs": [
    {
     "data": {
      "text/plain": [
       "LinearSVC(C=1.0, class_weight=None, dual=True, fit_intercept=True,\n",
       "     intercept_scaling=1, loss='squared_hinge', max_iter=1000,\n",
       "     multi_class='ovr', penalty='l2', random_state=0, tol=0.0001,\n",
       "     verbose=0)"
      ]
     },
     "execution_count": 211,
     "metadata": {},
     "output_type": "execute_result"
    }
   ],
   "source": [
    "# Fit a model\n",
    "svm_onDev = LinearSVC(random_state=0)\n",
    "svm_onDev.fit(dev_data, dev_labels)"
   ]
  },
  {
   "cell_type": "code",
   "execution_count": 212,
   "metadata": {
    "collapsed": true
   },
   "outputs": [],
   "source": [
    "# Score using the new dev-data svm model\n",
    "dev_scores2 = svm_onDev.decision_function(n_dev_ivec)\n",
    "train_scores2 = svm_onDev.decision_function(train_data)\n",
    "eval_scores2 = svm_onDev.decision_function(n_eval_ivec)"
   ]
  },
  {
   "cell_type": "code",
   "execution_count": 213,
   "metadata": {
    "collapsed": true
   },
   "outputs": [],
   "source": [
    "# Save the new pooled scores\n",
    "save_scores(train_scores2, 'scores/train_scores_dev.txt')\n",
    "save_scores(dev_scores2, 'scores/dev_scores_dev.txt')\n",
    "save_scores(eval_scores2, 'scores/eval_scores_dev.txt')"
   ]
  },
  {
   "cell_type": "markdown",
   "metadata": {},
   "source": [
    "# Results on dev-data trained SVM model\n",
    "\n",
    "\n",
    "    Tesing on training set\n",
    "    EER on train = 15.261\n",
    "    --------------------------------------------\n",
    "    Tesing on development set\n",
    "    EER on dev = 1.520\n",
    "    --------------------------------------------\n",
    "    Tesing on evaluation set\n",
    "    EER on dev = 22.668"
   ]
  },
  {
   "cell_type": "code",
   "execution_count": null,
   "metadata": {
    "collapsed": true
   },
   "outputs": [],
   "source": []
  }
 ],
 "metadata": {
  "kernelspec": {
   "display_name": "Python 3",
   "language": "python",
   "name": "python3"
  },
  "language_info": {
   "codemirror_mode": {
    "name": "ipython",
    "version": 3
   },
   "file_extension": ".py",
   "mimetype": "text/x-python",
   "name": "python",
   "nbconvert_exporter": "python",
   "pygments_lexer": "ipython3",
   "version": "3.6.1"
  }
 },
 "nbformat": 4,
 "nbformat_minor": 2
}
